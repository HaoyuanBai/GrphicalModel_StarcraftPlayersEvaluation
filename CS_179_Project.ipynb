{
  "nbformat": 4,
  "nbformat_minor": 0,
  "metadata": {
    "colab": {
      "name": "CS 179 Project",
      "provenance": [],
      "collapsed_sections": []
    },
    "kernelspec": {
      "name": "python3",
      "display_name": "Python 3"
    },
    "language_info": {
      "name": "python"
    }
  },
  "cells": [
    {
      "cell_type": "markdown",
      "metadata": {
        "id": "UI6skdafF9Hi"
      },
      "source": [
        "INSTALLATIONS & IMPORTS"
      ]
    },
    {
      "cell_type": "code",
      "metadata": {
        "id": "o_A2Qt1WyWJa",
        "colab": {
          "base_uri": "https://localhost:8080/"
        },
        "outputId": "45dbb83d-1622-4c3f-e7e6-e386c67d3c0b"
      },
      "source": [
        "!pip install pyGMs\n",
        "\n",
        "import pyGM as gm \n",
        "import numpy as np\n",
        "import matplotlib.pyplot as plt\n",
        "import networkx as nx\n",
        "%matplotlib inline  "
      ],
      "execution_count": null,
      "outputs": [
        {
          "output_type": "stream",
          "text": [
            "Collecting pyGMs\n",
            "\u001b[?25l  Downloading https://files.pythonhosted.org/packages/d0/40/4a6118f65b995035d189ba136e16d096fad17dcde6fb5f631d571e41595c/pyGMs-0.1.0-py3-none-any.whl (157kB)\n",
            "\r\u001b[K     |██                              | 10kB 14.6MB/s eta 0:00:01\r\u001b[K     |████▏                           | 20kB 6.6MB/s eta 0:00:01\r\u001b[K     |██████▎                         | 30kB 4.3MB/s eta 0:00:01\r\u001b[K     |████████▎                       | 40kB 4.0MB/s eta 0:00:01\r\u001b[K     |██████████▍                     | 51kB 2.1MB/s eta 0:00:01\r\u001b[K     |████████████▌                   | 61kB 2.4MB/s eta 0:00:01\r\u001b[K     |██████████████▌                 | 71kB 2.6MB/s eta 0:00:01\r\u001b[K     |████████████████▋               | 81kB 2.7MB/s eta 0:00:01\r\u001b[K     |██████████████████▊             | 92kB 2.8MB/s eta 0:00:01\r\u001b[K     |████████████████████▊           | 102kB 2.9MB/s eta 0:00:01\r\u001b[K     |██████████████████████▉         | 112kB 2.9MB/s eta 0:00:01\r\u001b[K     |█████████████████████████       | 122kB 2.9MB/s eta 0:00:01\r\u001b[K     |███████████████████████████     | 133kB 2.9MB/s eta 0:00:01\r\u001b[K     |█████████████████████████████   | 143kB 2.9MB/s eta 0:00:01\r\u001b[K     |███████████████████████████████▏| 153kB 2.9MB/s eta 0:00:01\r\u001b[K     |████████████████████████████████| 163kB 2.9MB/s \n",
            "\u001b[?25hInstalling collected packages: pyGMs\n",
            "Successfully installed pyGMs-0.1.0\n"
          ],
          "name": "stdout"
        }
      ]
    },
    {
      "cell_type": "markdown",
      "metadata": {
        "id": "oYIUK29a9QfC"
      },
      "source": [
        "LOAD DATA FUNCTION"
      ]
    },
    {
      "cell_type": "code",
      "metadata": {
        "id": "JC8uwC5m5sXE"
      },
      "source": [
        "def load_data(filename, pKeep, nEdge, nKeep):\n",
        "\n",
        "  # Load training data and reduce (subsample) if desired\n",
        "\n",
        "  # Read thru file to get numeric ids for each player \n",
        "  with open(filename) as f: lines = f.read().split('\\n')\n",
        "\n",
        "  p = 0; playerid = {};\n",
        "  for i in range(len(lines)):\n",
        "    csv = lines[i].split(',');\n",
        "    if len(csv) != 10: continue;   # parse error or blank line\n",
        "    player0,player1 = csv[1],csv[4];\n",
        "    if player0 not in playerid: playerid[player0]=p; p+=1;\n",
        "    if player1 not in playerid: playerid[player1]=p; p+=1;\n",
        "\n",
        "  nplayers = len(playerid)\n",
        "  playername = ['']*nplayers\n",
        "  for player in playerid: playername[ playerid[player] ]=player;  # id to name lookup\n",
        "\n",
        "\n",
        "  # Sparsifying parameters (discard some training examples):\n",
        "  pKeep = pKeep   # fraction of edges to consider (immed. throw out 1-p edges)\n",
        "  nEdge = nEdge     # try to keep nEdge opponents per player (may be more; asymmetric)\n",
        "  nKeep = nKeep     # keep at most nKeep games per opponent pairs (play each other multiple times)\n",
        "\n",
        "  nplays, nwins = np.zeros( (nplayers,nplayers) ), np.zeros( (nplayers,nplayers) );\n",
        "  for i in range(len(lines)):\n",
        "    csv = lines[i].split(',');\n",
        "    if len(csv) != 10: continue;   # parse error or blank line\n",
        "    a,b = playerid[csv[1]],playerid[csv[4]];\n",
        "    aw,bw = csv[2]=='[winner]',csv[5]=='[winner]';\n",
        "    if (np.random.rand() < pKeep):\n",
        "      if (nplays[a,b] < nKeep) and ( ((nplays[a,:]>0).sum() < nEdge) or ((nplays[:,b]>0).sum() < nEdge) ):\n",
        "        nplays[a,b] += 1; nplays[b,a]+=1; nwins[a,b] += aw; nwins[b,a] += bw;\n",
        "\n",
        "  return (nplayers, nplays, nwins)"
      ],
      "execution_count": null,
      "outputs": []
    },
    {
      "cell_type": "markdown",
      "metadata": {
        "id": "i-zkqD8gAecZ"
      },
      "source": [
        "GENERATE GAME OUTCOMES FUNCTION"
      ]
    },
    {
      "cell_type": "code",
      "metadata": {
        "id": "Pf4co5xN9nWp"
      },
      "source": [
        "def generate_games(nwins):\n",
        "  games = []\n",
        "\n",
        "  for player in range(len(nwins)):\n",
        "    for opponent in range(len(nwins[player])):\n",
        "      for i in range(int(nwins[player][opponent])):\n",
        "        games.append((player, opponent, +1))\n",
        "        games.append((opponent, player, -1))\n",
        "\n",
        "  return games"
      ],
      "execution_count": null,
      "outputs": []
    },
    {
      "cell_type": "markdown",
      "metadata": {
        "id": "BPmCbuL014vG"
      },
      "source": [
        "CREATE MODEL FUNCTION"
      ]
    },
    {
      "cell_type": "code",
      "metadata": {
        "id": "RHCBx-qqE786"
      },
      "source": [
        "def create_model(nlevels, scale, games, nplayers):  \n",
        "  nlevels = nlevels   # let's say 10 discrete skill levels\n",
        "  scale = scale     # this scales how skill difference translates to win probability\n",
        "\n",
        "  games = games\n",
        "  nplayers = nplayers\n",
        "\n",
        "  # Make variables for each player; value = skill level\n",
        "  X = [None]*nplayers\n",
        "  for i in range(nplayers):\n",
        "      X[i] = gm.Var(i, nlevels)   \n",
        "\n",
        "  # Information from each game: what does Pi winning over Pj tell us?\n",
        "  #    Win probability  Pr[win | Xi-Xj]  depends on skill difference of players\n",
        "  Pwin = np.zeros( (nlevels,nlevels) )\n",
        "  for i in range(nlevels):\n",
        "      for j in range(nlevels):\n",
        "          diff = i-j                   # find the advantage of Pi over Pj, then \n",
        "          Pwin[i,j] = (1./(1+np.exp(-scale*diff)))  # Pwin = logistic of advantage\n",
        "\n",
        "  # before any games, uniform belief over skill levels for each player:\n",
        "  factors = [ gm.Factor([X[i]],1./nlevels) for i in range(nplayers) ]\n",
        "\n",
        "  # Now add the information from each game:\n",
        "  for g in games:\n",
        "      P1,P2,win = g[0],g[1],g[2]\n",
        "      if P1>P2: P1,P2,win=P2,P1,-win  # (need to make player IDs sorted...)\n",
        "      factors.append(gm.Factor([X[P1],X[P2]], Pwin if win>0 else 1-Pwin) )\n",
        "\n",
        "  model = gm.GraphModel(factors)\n",
        "  model.makeMinimal()  # merge any duplicate factors (e.g., repeated games)\n",
        "\n",
        "  if model.nvar < 0:       # for very small models, we can do brute force inference:\n",
        "      jt = model.joint()\n",
        "      jt /= jt.sum()       # normalize the distribution and marginalize the table\n",
        "      bel = [jt.marginal([i]) for i in range(nplayers)] \n",
        "  else:                    # otherwise we need to use some approximate inference:\n",
        "      from pyGM.messagepass import LBP, NMF\n",
        "      #lnZ,bel = LBP(model, maxIter=10, verbose=True)   # loopy BP\n",
        "      lnZ,bel = NMF(model, maxIter=10, verbose=True)  # Mean field\n",
        "\n",
        "  return bel, X, Pwin"
      ],
      "execution_count": null,
      "outputs": []
    },
    {
      "cell_type": "markdown",
      "metadata": {
        "id": "omof4cywGkUE"
      },
      "source": [
        "WIN PROBABILITY FUNCTION"
      ]
    },
    {
      "cell_type": "code",
      "metadata": {
        "id": "Pp2EH3M_GmlC"
      },
      "source": [
        "# Expected value (over skill of P0, P1) of Pr[win | P0-P1]\n",
        "\n",
        "def win_probability(i, j, bel, X, Pwin):\n",
        "  if i<j:\n",
        "      return ( (bel[i]*bel[j]*gm.Factor([X[i],X[j]],Pwin)).table.sum() )\n",
        "  else:\n",
        "      return ( (bel[i]*bel[j]*gm.Factor([X[i],X[j]],1-Pwin)).table.sum() )\n",
        "\n",
        "    \n",
        "# Notes: we should probably use the joint belief over Xi and Xj, but for simplicity\n",
        "#  with approximate inference we'll just use the estimated singleton marginals"
      ],
      "execution_count": null,
      "outputs": []
    },
    {
      "cell_type": "markdown",
      "metadata": {
        "id": "_cBnZ54BX2wN"
      },
      "source": [
        "GENERATE WINRATES FUNCTION"
      ]
    },
    {
      "cell_type": "code",
      "metadata": {
        "id": "Rq3CpzD4Zx7M"
      },
      "source": [
        "# Establish winrate for each pair of players\n",
        "\n",
        "def generate_winrates(all_games):\n",
        "  wins = dict() # wins[i, j] is the number of times that i has beaten j\n",
        "\n",
        "  for g in all_games:\n",
        "    if (g[0], g[1]) not in wins and g[2] == +1:\n",
        "      wins[(g[0], g[1])] = 1\n",
        "    elif (g[0], g[1]) in wins and g[2] == +1:\n",
        "      wins[(g[0], g[1])] += 1\n",
        "\n",
        "  winrates = dict() # winrate[i, j] is the percent of the time that i has beaten j\n",
        "\n",
        "  for w in wins:\n",
        "    if (w[1], w[0]) not in wins:\n",
        "      winrates[w] = 1.0\n",
        "    else:\n",
        "      winrates[w] = wins[w] / (wins[w] + wins[(w[1], w[0])])\n",
        "\n",
        "  return winrates"
      ],
      "execution_count": null,
      "outputs": []
    },
    {
      "cell_type": "markdown",
      "metadata": {
        "id": "DX-junOl2PqZ"
      },
      "source": [
        "GENERATE MSE FUNCTION"
      ]
    },
    {
      "cell_type": "code",
      "metadata": {
        "id": "8kin3uNFfe_w"
      },
      "source": [
        "def generate_mse(winrates, bel, X, Pwin):\n",
        "  total_squared_error = 0.0\n",
        "\n",
        "  for w in winrates:\n",
        "    total_squared_error += ((winrates[w] - win_probability(w[0], w[1], bel, X, Pwin)) ** 2.0)\n",
        "\n",
        "  return total_squared_error / len(winrates)"
      ],
      "execution_count": null,
      "outputs": []
    },
    {
      "cell_type": "markdown",
      "metadata": {
        "id": "ADJx57z02R2D"
      },
      "source": [
        "SKILL PREDICTION ACCURACY FUNCTION"
      ]
    },
    {
      "cell_type": "code",
      "metadata": {
        "id": "9VrogxQ8gJ3q"
      },
      "source": [
        "def generate_skill_prediction_accuracy(winrates, all_skill_levels):\n",
        "\n",
        "  accurate = 0\n",
        "\n",
        "  total = 0\n",
        "\n",
        "  for w in winrates:\n",
        "    if (winrates[w] > 0.5):\n",
        "      if all_skill_levels[w[0]] > all_skill_levels[w[1]]:\n",
        "        accurate += 1\n",
        "      total += 1\n",
        "\n",
        "    elif (winrates[w] < 0.5):\n",
        "      if all_skill_levels[w[0]] < all_skill_levels[w[1]]:\n",
        "        accurate += 1\n",
        "      total += 1\n",
        "\n",
        "    else:\n",
        "      pass\n",
        "\n",
        "  return (accurate / total)"
      ],
      "execution_count": null,
      "outputs": []
    },
    {
      "cell_type": "markdown",
      "metadata": {
        "id": "ONZZfq9x2V8J"
      },
      "source": [
        "RUN TEST FUNCTION"
      ]
    },
    {
      "cell_type": "code",
      "metadata": {
        "id": "y3p6fzAapDny"
      },
      "source": [
        "def run_test(filename, nlevels, scale, bel, X, Pwin, pKeep, nEdge, nKeep):\n",
        "  nplayers, nplays, nwins = load_data(filename, pKeep, nEdge, nKeep)\n",
        "  games = generate_games(nwins)\n",
        "  all_skill_levels = [ bel[i].table.dot(np.arange(nlevels)) for i in range(nplayers)]\n",
        "  winrates = generate_winrates(games)\n",
        "  mse = (generate_mse(winrates, bel, X, Pwin))\n",
        "  skill_prediction_accuracy = (generate_skill_prediction_accuracy(winrates, all_skill_levels))\n",
        "  return (mse, skill_prediction_accuracy)"
      ],
      "execution_count": null,
      "outputs": []
    },
    {
      "cell_type": "markdown",
      "metadata": {
        "id": "_-DsVJPC2X43"
      },
      "source": [
        "CREATE AND RUN MODEL FUNCTION"
      ]
    },
    {
      "cell_type": "code",
      "metadata": {
        "id": "R4XCrVOa0Oyd"
      },
      "source": [
        "def create_and_run_model(train_file, valid_file, nlevels, scale, pKeep_train, nEdge_train, nKeep_train, pKeep_valid,\n",
        "                         nEdge_valid, nKeep_valid):\n",
        "  nplayers, nplays, nwins = load_data(train_file, pKeep_train, nEdge_train, nKeep_train)\n",
        "  bel, X, Pwin = create_model(nlevels, scale, generate_games(nwins), nplayers)\n",
        "\n",
        "  return (run_test(valid_file, nlevels, scale, bel, X, Pwin, pKeep_valid, nEdge_valid, nKeep_valid),\n",
        "          run_test(train_file, nlevels, scale, bel, X, Pwin, pKeep_train, nEdge_train, nKeep_train))"
      ],
      "execution_count": null,
      "outputs": []
    },
    {
      "cell_type": "markdown",
      "metadata": {
        "id": "LXyjKnvw2b8q"
      },
      "source": [
        "TESTING DIFFERENT MODELS"
      ]
    },
    {
      "cell_type": "code",
      "metadata": {
        "colab": {
          "base_uri": "https://localhost:8080/",
          "height": 52
        },
        "id": "oEtvayp2Bkcd",
        "outputId": "057fce16-3386-48a5-eeae-27ea35ab8eaf"
      },
      "source": [
        "'''scale_model_results = []\n",
        "\n",
        "for i in range(11):\n",
        "  scale_model_results.append(create_and_run_model(\"train.csv\", \"valid.csv\", 10, (i / 10.0), 1.0, 3, 5, 1.0, 3, 5))'''"
      ],
      "execution_count": null,
      "outputs": [
        {
          "output_type": "execute_result",
          "data": {
            "application/vnd.google.colaboratory.intrinsic+json": {
              "type": "string"
            },
            "text/plain": [
              "'scale_model_results = []\\n\\nfor i in range(11):\\n  scale_model_results.append(create_and_run_model(\"train.csv\", \"valid.csv\", 10, (i / 10.0), 1.0, 3, 5, 1.0, 3, 5))'"
            ]
          },
          "metadata": {
            "tags": []
          },
          "execution_count": 11
        }
      ]
    },
    {
      "cell_type": "code",
      "metadata": {
        "colab": {
          "base_uri": "https://localhost:8080/"
        },
        "id": "PiUX2AwzHZxz",
        "outputId": "9e1dbf41-5dc3-4e34-99f7-50c3ff071dd1"
      },
      "source": [
        "scale_model_results = [((0.2040047338067142, 0.0), (0.2056532503596645, 0.0)), ((0.19646618736514826, 0.5985308208240179), (0.13250049221907087, 0.8654895666131621)), ((0.19790314807931988, 0.6014053018205047), (0.09056222649870875, 0.8709470304975923)), ((0.20822886247047812, 0.6058767167039285), (0.07453881851107211, 0.8776886035313002)), ((0.21866964217811216, 0.6030022357074417), (0.06741191011641443, 0.8828250401284109)), ((0.2278788900294019, 0.6023634621526669), (0.06380156820968169, 0.8866773675762439)), ((0.23577497045610749, 0.6045991695943788), (0.06186637252102992, 0.8863563402889245)), ((0.2389916620390329, 0.6167358671351006), (0.05939435353751756, 0.8969502407704655)), ((0.24958126967191438, 0.594059405940594), (0.05923099788762621, 0.8975922953451043)), ((0.25429833257437934, 0.5937400191632066), (0.058824369234982944, 0.8979133226324237)), ((0.2582585995398611, 0.5911849249441073), (0.05866716068361593, 0.8966292134831461))]\n",
        "\n",
        "for i in range(len(scale_model_results)):\n",
        "  print(\"----------\")\n",
        "  print(\"nlevels 10\")\n",
        "  print(\"scale\", i / 10.0)\n",
        "  print(\"Train MSE\", scale_model_results[i][1][0])\n",
        "  print(\"Train skill prediction accuracy\", scale_model_results[i][1][1])\n",
        "  print(\"Valid MSE\", scale_model_results[i][0][0])\n",
        "  print(\"Valid skill prediction accuracy\", scale_model_results[i][0][1])\n",
        "  print(\"----------\")"
      ],
      "execution_count": null,
      "outputs": [
        {
          "output_type": "stream",
          "text": [
            "----------\n",
            "nlevels 10\n",
            "scale 0.0\n",
            "Train MSE 0.2056532503596645\n",
            "Train skill prediction accuracy 0.0\n",
            "Valid MSE 0.2040047338067142\n",
            "Valid skill prediction accuracy 0.0\n",
            "----------\n",
            "----------\n",
            "nlevels 10\n",
            "scale 0.1\n",
            "Train MSE 0.13250049221907087\n",
            "Train skill prediction accuracy 0.8654895666131621\n",
            "Valid MSE 0.19646618736514826\n",
            "Valid skill prediction accuracy 0.5985308208240179\n",
            "----------\n",
            "----------\n",
            "nlevels 10\n",
            "scale 0.2\n",
            "Train MSE 0.09056222649870875\n",
            "Train skill prediction accuracy 0.8709470304975923\n",
            "Valid MSE 0.19790314807931988\n",
            "Valid skill prediction accuracy 0.6014053018205047\n",
            "----------\n",
            "----------\n",
            "nlevels 10\n",
            "scale 0.3\n",
            "Train MSE 0.07453881851107211\n",
            "Train skill prediction accuracy 0.8776886035313002\n",
            "Valid MSE 0.20822886247047812\n",
            "Valid skill prediction accuracy 0.6058767167039285\n",
            "----------\n",
            "----------\n",
            "nlevels 10\n",
            "scale 0.4\n",
            "Train MSE 0.06741191011641443\n",
            "Train skill prediction accuracy 0.8828250401284109\n",
            "Valid MSE 0.21866964217811216\n",
            "Valid skill prediction accuracy 0.6030022357074417\n",
            "----------\n",
            "----------\n",
            "nlevels 10\n",
            "scale 0.5\n",
            "Train MSE 0.06380156820968169\n",
            "Train skill prediction accuracy 0.8866773675762439\n",
            "Valid MSE 0.2278788900294019\n",
            "Valid skill prediction accuracy 0.6023634621526669\n",
            "----------\n",
            "----------\n",
            "nlevels 10\n",
            "scale 0.6\n",
            "Train MSE 0.06186637252102992\n",
            "Train skill prediction accuracy 0.8863563402889245\n",
            "Valid MSE 0.23577497045610749\n",
            "Valid skill prediction accuracy 0.6045991695943788\n",
            "----------\n",
            "----------\n",
            "nlevels 10\n",
            "scale 0.7\n",
            "Train MSE 0.05939435353751756\n",
            "Train skill prediction accuracy 0.8969502407704655\n",
            "Valid MSE 0.2389916620390329\n",
            "Valid skill prediction accuracy 0.6167358671351006\n",
            "----------\n",
            "----------\n",
            "nlevels 10\n",
            "scale 0.8\n",
            "Train MSE 0.05923099788762621\n",
            "Train skill prediction accuracy 0.8975922953451043\n",
            "Valid MSE 0.24958126967191438\n",
            "Valid skill prediction accuracy 0.594059405940594\n",
            "----------\n",
            "----------\n",
            "nlevels 10\n",
            "scale 0.9\n",
            "Train MSE 0.058824369234982944\n",
            "Train skill prediction accuracy 0.8979133226324237\n",
            "Valid MSE 0.25429833257437934\n",
            "Valid skill prediction accuracy 0.5937400191632066\n",
            "----------\n",
            "----------\n",
            "nlevels 10\n",
            "scale 1.0\n",
            "Train MSE 0.05866716068361593\n",
            "Train skill prediction accuracy 0.8966292134831461\n",
            "Valid MSE 0.2582585995398611\n",
            "Valid skill prediction accuracy 0.5911849249441073\n",
            "----------\n"
          ],
          "name": "stdout"
        }
      ]
    },
    {
      "cell_type": "code",
      "metadata": {
        "colab": {
          "base_uri": "https://localhost:8080/",
          "height": 52
        },
        "id": "qQkjXMWGLysr",
        "outputId": "53aa917a-ea09-4762-b004-e4be3c86971d"
      },
      "source": [
        "'''nlevels_model_results = []\n",
        "\n",
        "i = 1\n",
        "while (i < 52):\n",
        "  nlevels_model_results.append(create_and_run_model(\"train.csv\", \"valid.csv\", i, 0.7, 1.0, 3, 5, 1.0, 3, 5))\n",
        "  i += 2'''"
      ],
      "execution_count": null,
      "outputs": [
        {
          "output_type": "execute_result",
          "data": {
            "application/vnd.google.colaboratory.intrinsic+json": {
              "type": "string"
            },
            "text/plain": [
              "'nlevels_model_results = []\\n\\ni = 1\\nwhile (i < 52):\\n  nlevels_model_results.append(create_and_run_model(\"train.csv\", \"valid.csv\", i, 0.7, 1.0, 3, 5, 1.0, 3, 5))\\n  i += 2'"
            ]
          },
          "metadata": {
            "tags": []
          },
          "execution_count": 13
        }
      ]
    },
    {
      "cell_type": "code",
      "metadata": {
        "colab": {
          "base_uri": "https://localhost:8080/"
        },
        "id": "iS6sRTQqceUj",
        "outputId": "ddc88de0-c28b-4d03-8d01-cdb260ec009a"
      },
      "source": [
        "nlevels_model_results = [((0.20400473380671422, 0.0), (0.2056532503596645, 0.0)), ((0.1988661106304083, 0.6020440753752795), (0.09580877721244141, 0.8645264847512039)), ((0.21057271724421248, 0.6189715745768125), (0.07164512725218587, 0.8719101123595505)), ((0.229892978969809, 0.596295113382306), (0.06447787116589113, 0.8825040128410915)), ((0.2388149228444991, 0.6023634621526669), (0.06157804960294816, 0.8853932584269663)), ((0.243116206942469, 0.6141807729160013), (0.05854526751000141, 0.8982343499197432)), ((0.2505349051327576, 0.6103481315873522), (0.05753777102929147, 0.9004815409309791)), ((0.253566600947636, 0.6100287448099648), (0.0567999596128552, 0.9043338683788122)), ((0.25662896208514957, 0.6090705844778026), (0.0565831803054724, 0.9040128410914928)), ((0.2586346409480927, 0.6084318109230278), (0.05620019846344637, 0.9001605136436597)), ((0.26112105352346304, 0.6097093580325774), (0.056224941799965365, 0.9052969502407705)), ((0.2623508093978641, 0.6090705844778026), (0.056155733907939674, 0.9030497592295346)), ((0.26388097755830564, 0.6103481315873522), (0.055988692692918014, 0.9040128410914928)), ((0.26516846275146905, 0.6103481315873522), (0.05602909630294836, 0.9046548956661317)), ((0.2672434176921395, 0.6106675183647396), (0.05609746935526419, 0.8991974317817014)), ((0.26712101709870306, 0.6109869051421272), (0.055936660918596066, 0.9046548956661317)), ((0.26876852868167966, 0.60938997125519), (0.05591498183586237, 0.9011235955056179)), ((0.27096401012410665, 0.6058767167039285), (0.05612947751531459, 0.8972712680577849)), ((0.27014530135289544, 0.60938997125519), (0.05586208351235634, 0.9011235955056179)), ((0.27212085697644395, 0.6068348770360907), (0.056046572932330924, 0.8972712680577849)), ((0.2710274336024684, 0.6106675183647396), (0.055788719200164864, 0.9008025682182985)), ((0.2729809186610065, 0.6081124241456404), (0.05592233073324191, 0.8966292134831461)), ((0.2710750534223711, 0.6119450654742894), (0.055785168170613395, 0.903370786516854)), ((0.27393849101134315, 0.6071542638134781), (0.05596818446156647, 0.8972712680577849)), ((0.271756795713086, 0.611625678696902), (0.0557506238633067, 0.9036918138041734)), ((0.27301984434598286, 0.6113062919195146), (0.05574540840073132, 0.9011235955056179))]\n",
        "\n",
        "for i in range(len(nlevels_model_results)):\n",
        "  print(\"----------\")\n",
        "  print(\"nlevels\", (i * 2) + 1)\n",
        "  print(\"scale\", 0.7)\n",
        "  print(\"Train MSE\", nlevels_model_results[i][1][0])\n",
        "  print(\"Train skill prediction accuracy\", nlevels_model_results[i][1][1])\n",
        "  print(\"Valid MSE\", nlevels_model_results[i][0][0])\n",
        "  print(\"Valid skill prediction accuracy\", nlevels_model_results[i][0][1])\n",
        "  print(\"----------\")"
      ],
      "execution_count": null,
      "outputs": [
        {
          "output_type": "stream",
          "text": [
            "----------\n",
            "nlevels 1\n",
            "scale 0.7\n",
            "Train MSE 0.2056532503596645\n",
            "Train skill prediction accuracy 0.0\n",
            "Valid MSE 0.20400473380671422\n",
            "Valid skill prediction accuracy 0.0\n",
            "----------\n",
            "----------\n",
            "nlevels 3\n",
            "scale 0.7\n",
            "Train MSE 0.09580877721244141\n",
            "Train skill prediction accuracy 0.8645264847512039\n",
            "Valid MSE 0.1988661106304083\n",
            "Valid skill prediction accuracy 0.6020440753752795\n",
            "----------\n",
            "----------\n",
            "nlevels 5\n",
            "scale 0.7\n",
            "Train MSE 0.07164512725218587\n",
            "Train skill prediction accuracy 0.8719101123595505\n",
            "Valid MSE 0.21057271724421248\n",
            "Valid skill prediction accuracy 0.6189715745768125\n",
            "----------\n",
            "----------\n",
            "nlevels 7\n",
            "scale 0.7\n",
            "Train MSE 0.06447787116589113\n",
            "Train skill prediction accuracy 0.8825040128410915\n",
            "Valid MSE 0.229892978969809\n",
            "Valid skill prediction accuracy 0.596295113382306\n",
            "----------\n",
            "----------\n",
            "nlevels 9\n",
            "scale 0.7\n",
            "Train MSE 0.06157804960294816\n",
            "Train skill prediction accuracy 0.8853932584269663\n",
            "Valid MSE 0.2388149228444991\n",
            "Valid skill prediction accuracy 0.6023634621526669\n",
            "----------\n",
            "----------\n",
            "nlevels 11\n",
            "scale 0.7\n",
            "Train MSE 0.05854526751000141\n",
            "Train skill prediction accuracy 0.8982343499197432\n",
            "Valid MSE 0.243116206942469\n",
            "Valid skill prediction accuracy 0.6141807729160013\n",
            "----------\n",
            "----------\n",
            "nlevels 13\n",
            "scale 0.7\n",
            "Train MSE 0.05753777102929147\n",
            "Train skill prediction accuracy 0.9004815409309791\n",
            "Valid MSE 0.2505349051327576\n",
            "Valid skill prediction accuracy 0.6103481315873522\n",
            "----------\n",
            "----------\n",
            "nlevels 15\n",
            "scale 0.7\n",
            "Train MSE 0.0567999596128552\n",
            "Train skill prediction accuracy 0.9043338683788122\n",
            "Valid MSE 0.253566600947636\n",
            "Valid skill prediction accuracy 0.6100287448099648\n",
            "----------\n",
            "----------\n",
            "nlevels 17\n",
            "scale 0.7\n",
            "Train MSE 0.0565831803054724\n",
            "Train skill prediction accuracy 0.9040128410914928\n",
            "Valid MSE 0.25662896208514957\n",
            "Valid skill prediction accuracy 0.6090705844778026\n",
            "----------\n",
            "----------\n",
            "nlevels 19\n",
            "scale 0.7\n",
            "Train MSE 0.05620019846344637\n",
            "Train skill prediction accuracy 0.9001605136436597\n",
            "Valid MSE 0.2586346409480927\n",
            "Valid skill prediction accuracy 0.6084318109230278\n",
            "----------\n",
            "----------\n",
            "nlevels 21\n",
            "scale 0.7\n",
            "Train MSE 0.056224941799965365\n",
            "Train skill prediction accuracy 0.9052969502407705\n",
            "Valid MSE 0.26112105352346304\n",
            "Valid skill prediction accuracy 0.6097093580325774\n",
            "----------\n",
            "----------\n",
            "nlevels 23\n",
            "scale 0.7\n",
            "Train MSE 0.056155733907939674\n",
            "Train skill prediction accuracy 0.9030497592295346\n",
            "Valid MSE 0.2623508093978641\n",
            "Valid skill prediction accuracy 0.6090705844778026\n",
            "----------\n",
            "----------\n",
            "nlevels 25\n",
            "scale 0.7\n",
            "Train MSE 0.055988692692918014\n",
            "Train skill prediction accuracy 0.9040128410914928\n",
            "Valid MSE 0.26388097755830564\n",
            "Valid skill prediction accuracy 0.6103481315873522\n",
            "----------\n",
            "----------\n",
            "nlevels 27\n",
            "scale 0.7\n",
            "Train MSE 0.05602909630294836\n",
            "Train skill prediction accuracy 0.9046548956661317\n",
            "Valid MSE 0.26516846275146905\n",
            "Valid skill prediction accuracy 0.6103481315873522\n",
            "----------\n",
            "----------\n",
            "nlevels 29\n",
            "scale 0.7\n",
            "Train MSE 0.05609746935526419\n",
            "Train skill prediction accuracy 0.8991974317817014\n",
            "Valid MSE 0.2672434176921395\n",
            "Valid skill prediction accuracy 0.6106675183647396\n",
            "----------\n",
            "----------\n",
            "nlevels 31\n",
            "scale 0.7\n",
            "Train MSE 0.055936660918596066\n",
            "Train skill prediction accuracy 0.9046548956661317\n",
            "Valid MSE 0.26712101709870306\n",
            "Valid skill prediction accuracy 0.6109869051421272\n",
            "----------\n",
            "----------\n",
            "nlevels 33\n",
            "scale 0.7\n",
            "Train MSE 0.05591498183586237\n",
            "Train skill prediction accuracy 0.9011235955056179\n",
            "Valid MSE 0.26876852868167966\n",
            "Valid skill prediction accuracy 0.60938997125519\n",
            "----------\n",
            "----------\n",
            "nlevels 35\n",
            "scale 0.7\n",
            "Train MSE 0.05612947751531459\n",
            "Train skill prediction accuracy 0.8972712680577849\n",
            "Valid MSE 0.27096401012410665\n",
            "Valid skill prediction accuracy 0.6058767167039285\n",
            "----------\n",
            "----------\n",
            "nlevels 37\n",
            "scale 0.7\n",
            "Train MSE 0.05586208351235634\n",
            "Train skill prediction accuracy 0.9011235955056179\n",
            "Valid MSE 0.27014530135289544\n",
            "Valid skill prediction accuracy 0.60938997125519\n",
            "----------\n",
            "----------\n",
            "nlevels 39\n",
            "scale 0.7\n",
            "Train MSE 0.056046572932330924\n",
            "Train skill prediction accuracy 0.8972712680577849\n",
            "Valid MSE 0.27212085697644395\n",
            "Valid skill prediction accuracy 0.6068348770360907\n",
            "----------\n",
            "----------\n",
            "nlevels 41\n",
            "scale 0.7\n",
            "Train MSE 0.055788719200164864\n",
            "Train skill prediction accuracy 0.9008025682182985\n",
            "Valid MSE 0.2710274336024684\n",
            "Valid skill prediction accuracy 0.6106675183647396\n",
            "----------\n",
            "----------\n",
            "nlevels 43\n",
            "scale 0.7\n",
            "Train MSE 0.05592233073324191\n",
            "Train skill prediction accuracy 0.8966292134831461\n",
            "Valid MSE 0.2729809186610065\n",
            "Valid skill prediction accuracy 0.6081124241456404\n",
            "----------\n",
            "----------\n",
            "nlevels 45\n",
            "scale 0.7\n",
            "Train MSE 0.055785168170613395\n",
            "Train skill prediction accuracy 0.903370786516854\n",
            "Valid MSE 0.2710750534223711\n",
            "Valid skill prediction accuracy 0.6119450654742894\n",
            "----------\n",
            "----------\n",
            "nlevels 47\n",
            "scale 0.7\n",
            "Train MSE 0.05596818446156647\n",
            "Train skill prediction accuracy 0.8972712680577849\n",
            "Valid MSE 0.27393849101134315\n",
            "Valid skill prediction accuracy 0.6071542638134781\n",
            "----------\n",
            "----------\n",
            "nlevels 49\n",
            "scale 0.7\n",
            "Train MSE 0.0557506238633067\n",
            "Train skill prediction accuracy 0.9036918138041734\n",
            "Valid MSE 0.271756795713086\n",
            "Valid skill prediction accuracy 0.611625678696902\n",
            "----------\n",
            "----------\n",
            "nlevels 51\n",
            "scale 0.7\n",
            "Train MSE 0.05574540840073132\n",
            "Train skill prediction accuracy 0.9011235955056179\n",
            "Valid MSE 0.27301984434598286\n",
            "Valid skill prediction accuracy 0.6113062919195146\n",
            "----------\n"
          ],
          "name": "stdout"
        }
      ]
    },
    {
      "cell_type": "code",
      "metadata": {
        "colab": {
          "base_uri": "https://localhost:8080/"
        },
        "id": "wwT_aHgcwtdc",
        "outputId": "9add0a81-3a34-425f-ba40-2b7f56745693"
      },
      "source": [
        "print(\"The best model uses nlevels = 5 and scale = 0.7.\")"
      ],
      "execution_count": null,
      "outputs": [
        {
          "output_type": "stream",
          "text": [
            "The best model uses nlevels = 5 and scale = 0.7.\n"
          ],
          "name": "stdout"
        }
      ]
    },
    {
      "cell_type": "markdown",
      "metadata": {
        "id": "SdyPAtdypdGw"
      },
      "source": [
        "COMPARING BEST MODEL TO SIMPLER MODELS"
      ]
    },
    {
      "cell_type": "code",
      "metadata": {
        "id": "n9rO5hLepjzM"
      },
      "source": [
        "train_winrates = generate_winrates(generate_games(load_data(\"train.csv\", 1.0, 3, 5)[2]))\n",
        "\n",
        "valid_winrates = generate_winrates(generate_games(load_data(\"valid.csv\", 1.0, 3, 5)[2]))"
      ],
      "execution_count": null,
      "outputs": []
    },
    {
      "cell_type": "code",
      "metadata": {
        "id": "mX20j5eAruix"
      },
      "source": [
        "correct_predictions = 0\n",
        "total_predictions = 0\n",
        "\n",
        "for k in valid_winrates:\n",
        "  if k in train_winrates:\n",
        "    if valid_winrates[k] > 0.5 and train_winrates[k] > 0.5:\n",
        "      correct_predictions += 1\n",
        "    if valid_winrates[k] < 0.5 and train_winrates[k] < 0.5:\n",
        "      correct_predictions += 1\n",
        "    if valid_winrates[k] == 0.5 and train_winrates[k] == 0.5:\n",
        "      correct_predictions += 1\n",
        "    total_predictions += 1"
      ],
      "execution_count": null,
      "outputs": []
    },
    {
      "cell_type": "code",
      "metadata": {
        "colab": {
          "base_uri": "https://localhost:8080/"
        },
        "id": "YxLsn33mvKvN",
        "outputId": "ba3a21cd-d5ea-4bae-9edc-592eef415ec9"
      },
      "source": [
        "print(\"Simple model game prediction accuracy (based on winrate) (validation data)\", correct_predictions / total_predictions)\n",
        "print(\"Best model game prediction accuracy (based on skill rank) (validation data)\", nlevels_model_results[2][0][1])"
      ],
      "execution_count": null,
      "outputs": [
        {
          "output_type": "stream",
          "text": [
            "Simple model game prediction accuracy (based on winrate) (validation data) 0.5985401459854015\n",
            "Best model game prediction accuracy (based on skill rank) (validation data) 0.6189715745768125\n"
          ],
          "name": "stdout"
        }
      ]
    },
    {
      "cell_type": "code",
      "metadata": {
        "id": "M65ew3_cEbzm"
      },
      "source": [
        "train_nplays = load_data(\"train.csv\", 1.0, 3, 5)[1]"
      ],
      "execution_count": null,
      "outputs": []
    },
    {
      "cell_type": "code",
      "metadata": {
        "id": "OHmkPyn0E2w4"
      },
      "source": [
        "correct_predictions = 0\n",
        "total_predictions = 0\n",
        "\n",
        "for k in valid_winrates:\n",
        "  if valid_winrates[k] > 0.5 and np.sum(train_nplays[k[0]]) > np.sum(train_nplays[k[1]]):\n",
        "    correct_predictions += 1\n",
        "  if valid_winrates[k] < 0.5 and np.sum(train_nplays[k[0]]) < np.sum(train_nplays[k[1]]):\n",
        "    correct_predictions += 1\n",
        "  if valid_winrates[k] == 0.5 and np.sum(train_nplays[k[0]]) == np.sum(train_nplays[k[1]]):\n",
        "    correct_predictions += 1\n",
        "  total_predictions += 1"
      ],
      "execution_count": null,
      "outputs": []
    },
    {
      "cell_type": "code",
      "metadata": {
        "colab": {
          "base_uri": "https://localhost:8080/"
        },
        "id": "aaRB0JHzFuwV",
        "outputId": "e79b2408-4e7e-406d-bb89-87dd757a420a"
      },
      "source": [
        "print(\"Simple model game prediction accuracy (based on games played) (validation data)\", correct_predictions / total_predictions)\n",
        "print(\"Best model game prediction accuracy (based on skill rank) (validation data)\", nlevels_model_results[2][0][1])"
      ],
      "execution_count": null,
      "outputs": [
        {
          "output_type": "stream",
          "text": [
            "Simple model game prediction accuracy (based on games played) (validation data) 0.4746474647464746\n",
            "Best model game prediction accuracy (based on skill rank) (validation data) 0.6189715745768125\n"
          ],
          "name": "stdout"
        }
      ]
    },
    {
      "cell_type": "code",
      "metadata": {
        "id": "5trO03HyOEju"
      },
      "source": [
        "train_nwins = load_data(\"train.csv\", 1.0, 3, 5)[2]"
      ],
      "execution_count": null,
      "outputs": []
    },
    {
      "cell_type": "code",
      "metadata": {
        "id": "YNiBqlhOOJpv"
      },
      "source": [
        "correct_predictions = 0\n",
        "total_predictions = 0\n",
        "\n",
        "for k in valid_winrates:\n",
        "  wr_0 = np.sum(train_nwins[k[0]]) / np.sum(train_nplays[k[0]])\n",
        "  wr_1 = np.sum(train_nwins[k[1]]) / np.sum(train_nplays[k[1]])\n",
        "\n",
        "  if valid_winrates[k] > 0.5 and wr_0 > wr_1:\n",
        "    correct_predictions += 1\n",
        "  if valid_winrates[k] < 0.5 and wr_0 < wr_1:\n",
        "    correct_predictions += 1\n",
        "  if valid_winrates[k] == 0.5 and wr_0 == wr_1:\n",
        "    correct_predictions += 1\n",
        "  total_predictions += 1"
      ],
      "execution_count": null,
      "outputs": []
    },
    {
      "cell_type": "code",
      "metadata": {
        "colab": {
          "base_uri": "https://localhost:8080/"
        },
        "id": "WSWaK4N8Oq92",
        "outputId": "ef314e61-c76e-407b-999a-5e8dc89375d1"
      },
      "source": [
        "print(\"Simple model game prediction accuracy (based on *total* winrate) (validation data)\", correct_predictions / total_predictions)\n",
        "print(\"Best model game prediction accuracy (based on skill rank) (validation data)\", nlevels_model_results[2][0][1])"
      ],
      "execution_count": null,
      "outputs": [
        {
          "output_type": "stream",
          "text": [
            "Simple model game prediction accuracy (based on *total* winrate) (validation data) 0.46294629462946296\n",
            "Best model game prediction accuracy (based on skill rank) (validation data) 0.6189715745768125\n"
          ],
          "name": "stdout"
        }
      ]
    }
  ]
}